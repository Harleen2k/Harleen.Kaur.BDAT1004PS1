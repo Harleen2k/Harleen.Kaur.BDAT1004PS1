{
 "cells": [
  {
   "cell_type": "markdown",
   "id": "1c1424f9",
   "metadata": {},
   "source": [
    "# PROBLEM SET 1"
   ]
  },
  {
   "cell_type": "markdown",
   "id": "0cbeccb0",
   "metadata": {},
   "source": [
    "## Q1:\n",
    "What data type is each of the following (evaluate where necessary)?\n",
    "5\n",
    "5.0\n",
    "5 > 1\n",
    "'5'\n",
    "5 * 2\n",
    "'5' * 2\n",
    "'5' + '2'\n",
    "5 / 2\n",
    "5 % 2\n",
    "{5, 2, 1}\n",
    "5 == 3\n",
    "Pi (the number)\n"
   ]
  },
  {
   "cell_type": "code",
   "execution_count": 13,
   "id": "d73a6fde",
   "metadata": {
    "scrolled": true
   },
   "outputs": [
    {
     "ename": "SyntaxError",
     "evalue": "invalid syntax (3748157129.py, line 12)",
     "output_type": "error",
     "traceback": [
      "\u001b[1;36m  Cell \u001b[1;32mIn[13], line 12\u001b[1;36m\u001b[0m\n\u001b[1;33m    Pi - It depends on the context. If it is a variable representing the value of Pi from a library like math, it would be a Float. If it is simply the string \"Pi\", then it would be a String.\u001b[0m\n\u001b[1;37m            ^\u001b[0m\n\u001b[1;31mSyntaxError\u001b[0m\u001b[1;31m:\u001b[0m invalid syntax\n"
     ]
    }
   ],
   "source": [
    "5 - Integer\n",
    "5.0 - Float\n",
    "5 > 1 - Boolean (True)\n",
    "'5' - String\n",
    "5 * 2 - Integer\n",
    "'5' * 2 - String\n",
    "'5' + '2' - String\n",
    "5 / 2 - Float\n",
    "5 % 2 - Integer\n",
    "{5, 2, 1} - Set\n",
    "5 == 3 - Boolean (False)\n",
    "Pi - It depends on the context. If it is a variable representing the value of Pi from a library like math, it would be a Float. If it is simply the string \"Pi\", then it would be a String.\n",
    "the expressions in Python may differ depending on the specific context and values of variables.  \n",
    "Pi = 3.14 (float)\n",
    "\n",
    "\n"
   ]
  },
  {
   "cell_type": "markdown",
   "id": "1673161b",
   "metadata": {},
   "source": [
    "## Q2 :\n",
    "Write (and evaluate) python expressions that answer these questions:\n",
    "a. How many letters are there in 'Supercalifragilisticexpialidocious'?\n",
    "b. Does 'Supercalifragilisticexpialidocious' contain 'ice' as a substring?\n",
    "c. Which of the following words is the longest:\n",
    "Supercalifragilisticexpialidocious, Honorificabilitudinitatibus, or\n",
    "Bababadalgharaghtakamminarronnkonn?\n",
    "d. Which composer comes first in the dictionary: 'Berlioz', 'Borodin', 'Brian',\n",
    "'Bartok', 'Bellini', 'Buxtehude', 'Bernstein'. Which one comes last?\n"
   ]
  },
  {
   "cell_type": "code",
   "execution_count": 14,
   "id": "10246516",
   "metadata": {},
   "outputs": [
    {
     "name": "stdout",
     "output_type": "stream",
     "text": [
      "34\n",
      "True\n",
      "Supercalifragilisticexpialidocious\n",
      "First Composer: Bartok\n",
      "Last Composer: Buxtehude\n"
     ]
    }
   ],
   "source": [
    "string = 'Supercalifragilisticexpialidocious'\n",
    "letter_count = len(string)\n",
    "print(letter_count)\n",
    "\n",
    "string = 'Supercalifragilisticexpialidocious'\n",
    "substring = 'ice'\n",
    "contains_substring = substring in string\n",
    "print(contains_substring)\n",
    "\n",
    "words = ['Supercalifragilisticexpialidocious', 'Honorificabilitudinitatibus', 'Bababadalgharaghtakamminarronnkonn']\n",
    "longest_word = max(words, key=len)\n",
    "print(longest_word)\n",
    "\n",
    "composers = ['Berlioz', 'Borodin', 'Brian', 'Bartok', 'Bellini', 'Buxtehude', 'Bernstein']\n",
    "composers_sorted = sorted(composers)\n",
    "first_composer = composers_sorted[0]\n",
    "last_composer = composers_sorted[-1]\n",
    "print(\"First Composer:\", first_composer)\n",
    "print(\"Last Composer:\", last_composer)\n"
   ]
  },
  {
   "cell_type": "markdown",
   "id": "57e643fb",
   "metadata": {},
   "source": [
    "## Q3:\n",
    "Implement function triangleArea(a,b,c) that takes as input the lengths of the 3\n",
    "sides of a triangle and returns the area of the triangle. By Heron's formula, the area\n",
    "of a triangle with side lengths a, b, and c is\n",
    "s(s - a)(s -b)(s -c)\n",
    ", where\n",
    "s = (a+b+c)/2.\n",
    ">>> triangleArea(2,2,2)\n",
    "1.7320508075688772"
   ]
  },
  {
   "cell_type": "code",
   "execution_count": 5,
   "id": "8cf450f5",
   "metadata": {},
   "outputs": [
    {
     "name": "stdout",
     "output_type": "stream",
     "text": [
      "Enetr first number 3\n",
      "Enetr second number : 5\n",
      "Enetr third number :  6\n",
      "Area of the triangle: 7.483314773547883\n"
     ]
    }
   ],
   "source": [
    "import math\n",
    "\n",
    "def triangleArea(a , b, c):\n",
    "    s = (a + b + c) / 2\n",
    "    area = math.sqrt(s * (s - a) * (s - b) * (s - c))\n",
    "    return area\n",
    "a = int(input(\"Enetr first number \"))\n",
    "b = int(input(\"Enetr second number : \"))\n",
    "c = int(input(\"Enetr third number :  \"))\n",
    "area = triangleArea(a, b, c)\n",
    "print(\"Area of the triangle:\", area)\n"
   ]
  },
  {
   "cell_type": "markdown",
   "id": "9ba05917",
   "metadata": {},
   "source": [
    "## Q4:\n",
    "Write a program in python to separate odd and even integers in separate arrays. Go\n",
    "to the editor\n",
    "Test Data :\n",
    "Input the number of elements to be stored in the array :5\n",
    "Input 5 elements in the array :\n",
    "element - 0 : 25\n",
    "element - 1 : 47\n",
    "element - 2 : 42\n",
    "element - 3 : 56\n",
    "element - 4 : 32\n",
    "Expected Output:\n",
    "The Even elements are:\n",
    "42 56 32\n",
    "The Odd elements are :\n",
    "25 47"
   ]
  },
  {
   "cell_type": "code",
   "execution_count": 6,
   "id": "747d4bca",
   "metadata": {},
   "outputs": [
    {
     "name": "stdout",
     "output_type": "stream",
     "text": [
      "[25, 32, 42, 47, 56]\n",
      "Even numbers: [32, 42, 56]\n",
      "Odd numbers: [25, 47]\n"
     ]
    }
   ],
   "source": [
    "arr=[25,47,42,56,32]\n",
    "arr.sort()\n",
    "print(arr)\n",
    "def split_odd_even(arr):\n",
    "    even = []\n",
    "    odd = []\n",
    "    for i in arr:\n",
    "        if i % 2 == 0:\n",
    "            even.append(i)\n",
    "        else:\n",
    "            odd.append(i)\n",
    "    return even, odd\n",
    "\n",
    "\n",
    "even, odd = split_odd_even(arr)\n",
    "print(\"Even numbers:\", even)\n",
    "print(\"Odd numbers:\", odd)\n"
   ]
  },
  {
   "cell_type": "markdown",
   "id": "b7fc1d5e",
   "metadata": {},
   "source": [
    "## Q5:\n",
    "a. Write a function inside(x,y,x1,y1,x2,y2) that returns True or False\n",
    "depending on whether the point (x,y) lies in the rectangle with lower left\n",
    "corner (x1,y1) and upper right corner (x2,y2).\n",
    ">>> inside(1,1,0,0,2,3)\n",
    "True\n",
    ">>> inside(-1,-1,0,0,2,3)\n",
    "False\n",
    "\n",
    "b. Use function inside() from part a. to write an expression that tests whether\n",
    "the point (1,1) lies in both of the following rectangles: one with lower left\n",
    "corner (0.3, 0.5) and upper right corner (1.1, 0.7) and the other with lower\n",
    "left corner (0.5, 0.2) and upper right corner (1.1, 2)"
   ]
  },
  {
   "cell_type": "code",
   "execution_count": 7,
   "id": "18f00866",
   "metadata": {},
   "outputs": [
    {
     "name": "stdout",
     "output_type": "stream",
     "text": [
      "True\n",
      "False\n"
     ]
    }
   ],
   "source": [
    "def inside(x, y, x1, y1, x2, y2):\n",
    "    if x >= x1 and x <= x2 and y >= y1 and y <= y2:\n",
    "        return True\n",
    "    else:\n",
    "        return False\n",
    "x = 3\n",
    "y = 4\n",
    "x1 = 1\n",
    "y1 = 2\n",
    "x2 = 5\n",
    "y2 = 6\n",
    "\n",
    "result = inside(x, y, x1, y1, x2, y2)\n",
    "print(result)\n",
    "\n",
    "result = inside(1, 1, 0.3, 0.5, 1.1, 0.7) and inside(1, 1, 0.5, 0.2, 1.1, 2)\n",
    "print(result)"
   ]
  },
  {
   "cell_type": "markdown",
   "id": "49007297",
   "metadata": {},
   "source": [
    "## Q6:\n",
    "You can turn a word into pig-Latin using the following two rules (simplified):\n",
    "• If the word starts with a consonant, move that letter to the end and append\n",
    "'ay'. For example, 'happy' becomes 'appyhay' and 'pencil' becomes 'encilpay'.\n",
    "• If the word starts with a vowel, simply append 'way' to the end of the word.\n",
    "For example, 'enter' becomes 'enterway' and 'other' becomes 'otherway' . For\n",
    "our purposes, there are 5 vowels: a, e, i, o, u (so we count y as a consonant).\n",
    "Write a function pig() that takes a word (i.e., a string) as input and returns its pigLatin form. Your function should still work if the input word contains upper case\n",
    "characters. Your output should always be lower case however.\n",
    ">>> pig('happy')\n",
    "'appyhay'\n",
    ">>> pig('Enter')\n",
    "'enterway' "
   ]
  },
  {
   "cell_type": "code",
   "execution_count": 8,
   "id": "83f1b22f",
   "metadata": {},
   "outputs": [
    {
     "name": "stdout",
     "output_type": "stream",
     "text": [
      "appyhay\n",
      "Encilpay\n",
      "Enterway\n"
     ]
    }
   ],
   "source": [
    "def pig(word):\n",
    "    vowels = ['a', 'e', 'i', 'o', 'u']\n",
    "    lowercase_word = word.lower()\n",
    "    first_letter = lowercase_word[0]\n",
    "\n",
    "    if first_letter in vowels:\n",
    "        pig_word = lowercase_word + 'way'\n",
    "    else:\n",
    "        pig_word = lowercase_word[1:] + first_letter + 'ay'\n",
    "    \n",
    "    # Preserve the original case of the word\n",
    "    if word[0].isupper():\n",
    "        pig_word = pig_word.capitalize()\n",
    "    \n",
    "    return pig_word\n",
    "\n",
    "word1 = 'happy'\n",
    "word2 = 'Pencil'\n",
    "word3 = 'Enter'\n",
    "\n",
    "pig_word1 = pig(word1)\n",
    "pig_word2 = pig(word2)\n",
    "pig_word3 = pig(word3)\n",
    "\n",
    "print(pig_word1)\n",
    "print(pig_word2)\n",
    "print(pig_word3)\n"
   ]
  },
  {
   "cell_type": "markdown",
   "id": "f1c91121",
   "metadata": {},
   "source": [
    "## Q7:\n",
    "File bloodtype1.txt records blood-types of patients (A, B, AB, O or OO) at a clinic.\n",
    "Write a function bldcount() that reads the file with name name and reports (i.e.,\n",
    "prints) how many patients there are in each bloodtype.\n",
    ">>> bldcount('bloodtype.txt')\n",
    "There are 10 patients of blood type A.\n",
    "There is one patient of blood type B.\n",
    "There are 10 patients of blood type AB.\n",
    "There are 12 patients of blood type O.\n",
    "There are no patients of blood type OO.\n",
    "\n",
    "FILE CONTENT : AB AB B O A A AB O AB A O O A A A O O O AB O A A A A A AB AB A AB O AB O A O O O AB O AB AB AB A A O \n",
    "\n",
    " "
   ]
  },
  {
   "cell_type": "code",
   "execution_count": null,
   "id": "0b0b85c9",
   "metadata": {},
   "outputs": [],
   "source": [
    "a=open(\"harry.txt\")\n",
    "data=a.read()\n",
    "print(data)\n",
    "\n",
    "bloodlist=data.split()\n",
    "\n",
    "AB=0\n",
    "B=0\n",
    "A=0\n",
    "O=0\n",
    "OO=0\n",
    "\n",
    "for i in range(len(bloodlist)):\n",
    "    if (bloodlist[i]==\"AB\"):\n",
    "        AB= AB+1\n",
    "    elif(bloodlist[i]==\"B\"):\n",
    "        B=B+1\n",
    "    elif(bloodlist[i]==\"A\"):\n",
    "        A=A+1\n",
    "    elif(bloodlist[i]==\"O\"):\n",
    "        O=O+1\n",
    "    elif(bloodlist[i]==\"OO\"):\n",
    "        OO=OO+1        \n",
    "print(\"there are {} paitents of blood group AB\".format(AB))\n",
    "\n",
    "print(\"there are {} paitents of blood group B\".format(B))\n",
    "      \n",
    "print(\"there are {} paitents of blood group A\".format(A))\n",
    "      \n",
    "print(\"there are {} paitents of blood group O\".format(O))\n",
    "      \n",
    "print(\"there are {} paitents of blood group OO\".format(OO))\n",
    "\n",
    "a.close()"
   ]
  },
  {
   "cell_type": "markdown",
   "id": "6f0cc204",
   "metadata": {},
   "source": [
    "## Q8:\n",
    "Write a function curconv() that takes as input:\n",
    "1. a currency represented using a string (e.g., 'JPY' for the Japanese Yen or 'EUR' for the Euro)\n",
    "2. an amount and then converts and returns the amount in US dollars.\n",
    ">>> curconv('EUR', 100)\n",
    "122.96544\n",
    ">>> curconv('JPY', 100)\n",
    "1.241401\n",
    "The currency rates you will need are stored in file currencies.txt:\n",
    "AUD 1.0345157 Australian Dollar\n",
    "CHF 1.0237414 Swiss Franc\n",
    "CNY 0.1550176 Chinese Yuan\n",
    "DKK 0.1651442 Danish Krone\n",
    "EUR 1.2296544 Euro\n",
    "GBP 1.5550989 British Pound\n",
    "HKD 0.1270207 Hong Kong Dollar\n",
    "INR 0.0177643 Indian Rupee\n",
    "JPY 0.01241401 Japanese Yen\n",
    "MXN 0.0751848 Mexican Peso\n",
    "MYR 0.3145411 Malaysian Ringgit\n",
    "NOK 0.1677063 Norwegian Krone\n",
    "NZD 0.8003591 New Zealand Dollar\n",
    "PHP 0.0233234 Philippine Peso\n",
    "SEK 0.148269 Swedish Krona\n",
    "SGD 0.788871 Singapore Dollar\n",
    "THB 0.0313789 Thai Baht\n",
    "\n",
    "\n"
   ]
  },
  {
   "cell_type": "code",
   "execution_count": 4,
   "id": "463734ff",
   "metadata": {},
   "outputs": [
    {
     "name": "stdout",
     "output_type": "stream",
     "text": [
      "Enter the amount: 100\n",
      "Enter the currency: AUD\n",
      "100.00 AUD is equal to 103.45 USD\n"
     ]
    }
   ],
   "source": [
    "def currency_converter(amount, currency):\n",
    "    conversion_rates = {'AUD': 1.0345157,'CHF':1.0237414,'CNY':0.1550176,'DKK':0.1651442,\n",
    "               'EUR':1.2296544,'GBP':1.5550989,'HKD':0.1270207, 'INR':0.0177643,\n",
    "               'JPY': 0.01241401,'MXN': 0.0751848,'MYR': 0.3145411,'NOK':0.1677063,\n",
    "               'NZD':0.8003591,'PHP':0.0233234,'SEK':0.148269,'SGD':0.788871,'THB':0.0313789}   #Dictionary of currency rates.\n",
    "  \n",
    "    conversion_rate = conversion_rates.get(currency, 0)\n",
    "    if conversion_rate == 0:\n",
    "        return None\n",
    "  \n",
    "    return amount * conversion_rate\n",
    "\n",
    "amount = float(input(\"Enter the amount: \"))\n",
    "currency = input(\"Enter the currency: \")\n",
    "\n",
    "usd = currency_converter(amount, currency)\n",
    "if usd is None:\n",
    "      print(\"Invalid currency\")\n",
    "else:\n",
    "      print(\"{0:.2f}\".format(amount), currency, \"is equal to\", \"{0:.2f}\".format(usd), \"USD\")"
   ]
  },
  {
   "cell_type": "markdown",
   "id": "40ceceae",
   "metadata": {},
   "source": [
    "## Q9: Each of the following will cause an exception (an error). Identify what type of\n",
    "exception each will cause.\n",
    "Trying to add incompatible variables, as in\n",
    "adding 6 + ‘a’\n",
    "Referring to the 12th item of a list that has only 10\n",
    "items\n",
    "Using a value that is out of range for a function’s\n",
    "input, such as calling math.sqrt(-1.0)\n",
    "Using an undeclared variable, such as print(x)\n",
    "when x has not been defined\n",
    "Trying to open a file that does not exist, such as\n",
    "mistyping the file name or looking in the wrong\n",
    "directory. "
   ]
  },
  {
   "cell_type": "code",
   "execution_count": 2,
   "id": "928da46d",
   "metadata": {},
   "outputs": [
    {
     "ename": "SyntaxError",
     "evalue": "invalid decimal literal (427994484.py, line 5)",
     "output_type": "error",
     "traceback": [
      "\u001b[1;36m  Cell \u001b[1;32mIn[2], line 5\u001b[1;36m\u001b[0m\n\u001b[1;33m    Referring to the 12th item of a list that has only 10items.\u001b[0m\n\u001b[1;37m                      ^\u001b[0m\n\u001b[1;31mSyntaxError\u001b[0m\u001b[1;31m:\u001b[0m invalid decimal literal\n"
     ]
    }
   ],
   "source": [
    "Trying to add incompatible variables, as in adding 6 + 'a':\n",
    "\n",
    "Type of exception: TypeError\n",
    "Explanation: This operation raises a TypeError because it involves adding an integer (6) and a string ('a'), which are incompatible types for addition.\n",
    "Referring to the 12th item of a list that has only 10 items.\n",
    "\n",
    "Type of exception: IndexError\n",
    "Explanation: The list index is out of range. Accessing the 12th item in a list with only 10 items will raise an IndexError since the index is beyond the bounds of the list.\n",
    "Using a value that is out of range for a function's input, such as calling math.sqrt(-1.0).\n",
    "\n",
    "Type of exception: ValueError\n",
    "Explanation: The math.sqrt() function expects a non-negative number as its input. Providing a negative number (-1.0) as the argument will raise a ValueError since the square root of a negative number is not defined in real numbers.\n",
    "Using an undeclared variable, such as print(x) when x has not been defined.\n",
    "\n",
    "Type of exception: NameError\n",
    "Explanation: Accessing an undeclared variable (x) will raise a NameError. Python will not find the variable in the current scope and therefore cannot determine its value or perform the operation.\n",
    "Trying to open a file that does not exist, such as mistyping the file name or looking in the wrong directory.\n",
    "\n",
    "Type of exception: FileNotFoundError\n",
    "Explanation: If a file is not found at the specified path, attempting to open it will raise a FileNotFoundError. This typically occurs when the file name is mistyped or the file does not exist in the specified directory."
   ]
  },
  {
   "cell_type": "markdown",
   "id": "0cd5e20b",
   "metadata": {},
   "source": [
    "## Q10: Encryption is the process of hiding the meaning of a text by substituting letters in the\n",
    "message with other letters, according to some system. If the process is successful, no\n",
    "one but the intended recipient can understand the encrypted message. Cryptanalysis\n",
    "refers to attempts to undo the encryption, even if some details of the encryption are\n",
    "unknown (for example, if an encrypted message has been intercepted). The first step\n",
    "of cryptanalysis is often to build up a table of letter frequencies in the encrypted text.\n",
    "Assume that the string letters is already defined as\n",
    "'abcdefghijklmnopqrstuvwxyz'. Write a function called frequencies()\n",
    "that takes a string as its only parameter, and returns a list of integers, showing the\n",
    "number of times each character appears in the text. Your function may ignore any\n",
    "characters that are not in letters.\n",
    ">>> frequencies('The quick red fox got bored and went home.')\n",
    "[1, 1, 1, 3, 5, 1, 1, 2, 1, 0, 1, 0, 1, 2, 4, 0, 1, 2, 0, 2,\n",
    "1, 0, 1, 1, 0, 0]\n",
    ">>> frequencies('apple')"
   ]
  },
  {
   "cell_type": "code",
   "execution_count": 3,
   "id": "fb20648b",
   "metadata": {},
   "outputs": [
    {
     "name": "stdout",
     "output_type": "stream",
     "text": [
      "[1, 1, 1, 3, 5, 1, 1, 2, 1, 0, 1, 0, 1, 2, 4, 0, 1, 2, 0, 3, 1, 0, 1, 1, 0, 0]\n"
     ]
    }
   ],
   "source": [
    "def frequencies(text):\n",
    "    letters = 'abcdefghijklmnopqrstuvwxyz'\n",
    "    letter_counts = [0] * 26\n",
    "\n",
    "    for char in text:\n",
    "        if char.lower() in letters:\n",
    "            index = letters.index(char.lower())\n",
    "            letter_counts[index] += 1\n",
    "\n",
    "    return letter_counts\n",
    "\n",
    "text = \"The quick red fox got bored and went home.\"\n",
    "result = frequencies(text)\n",
    "print(result)\n"
   ]
  },
  {
   "cell_type": "code",
   "execution_count": null,
   "id": "f85dac3d",
   "metadata": {},
   "outputs": [],
   "source": []
  }
 ],
 "metadata": {
  "kernelspec": {
   "display_name": "Python 3 (ipykernel)",
   "language": "python",
   "name": "python3"
  },
  "language_info": {
   "codemirror_mode": {
    "name": "ipython",
    "version": 3
   },
   "file_extension": ".py",
   "mimetype": "text/x-python",
   "name": "python",
   "nbconvert_exporter": "python",
   "pygments_lexer": "ipython3",
   "version": "3.10.9"
  }
 },
 "nbformat": 4,
 "nbformat_minor": 5
}
